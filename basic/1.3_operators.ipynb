{
 "cells": [
  {
   "cell_type": "code",
   "execution_count": 8,
   "id": "f67324d1",
   "metadata": {},
   "outputs": [
    {
     "name": "stdout",
     "output_type": "stream",
     "text": [
      "13\n",
      "9\n",
      "22\n",
      "5.5\n",
      "5\n",
      "1\n",
      "121\n"
     ]
    }
   ],
   "source": [
    "##Arthemetic Operations\n",
    "a = 11\n",
    "b = 2\n",
    "add_Result = a + b # Addition\n",
    "sum_Result = a - b # Subtraction\n",
    "Mul_Result = a * b # Multiplication\n",
    "div_Result = a / b # Division\n",
    "floor_div_Result = a // b # Floor Division (Quotient) \n",
    "mod_Result = a % b # Modulus\n",
    "exp_Result = a ** b # Exponentiation\n",
    "print(add_Result)\n",
    "print(sum_Result)\n",
    "print(Mul_Result)\n",
    "print(div_Result)\n",
    "print(floor_div_Result)\n",
    "print(mod_Result)\n",
    "print(exp_Result)"
   ]
  },
  {
   "cell_type": "markdown",
   "id": "b6c1aaf2",
   "metadata": {},
   "source": [
    "####  Comparision Operator"
   ]
  },
  {
   "cell_type": "code",
   "execution_count": 7,
   "id": "5dcbf002",
   "metadata": {},
   "outputs": [
    {
     "name": "stdout",
     "output_type": "stream",
     "text": [
      "True\n",
      "False\n",
      "True\n",
      "False\n",
      "True\n",
      "False\n"
     ]
    }
   ],
   "source": [
    "##comparison Operations\n",
    "## ==, !=, >, <, >=, <=\n",
    "x = 10\n",
    "y = 20\n",
    "result_1=(x == y)  # Equal to\n",
    "result_2=(x != y)  # Not equal to \n",
    "result_3=(x > y)   # Greater than\n",
    "result_4=(x < y)   # Less than\n",
    "result_5=(x >= y)  # Greater than or equal to\n",
    "result=(x <= y)  # Less than or equal to\n",
    "print(result)\n",
    "print(result_1)\n",
    "print(result_2)\n",
    "print(result_3)\n",
    "print(result_4)\n",
    "print(result_5)\n",
    "\n"
   ]
  },
  {
   "cell_type": "markdown",
   "id": "1163230d",
   "metadata": {},
   "source": [
    "#### Logical Operator"
   ]
  },
  {
   "cell_type": "code",
   "execution_count": 2,
   "id": "dcab3a5f",
   "metadata": {},
   "outputs": [
    {
     "name": "stdout",
     "output_type": "stream",
     "text": [
      "True\n"
     ]
    }
   ],
   "source": [
    "## AND ,Not ,OR\n",
    "X=True\n",
    "Y=True\n",
    "result=X and Y\n",
    "print(result)"
   ]
  },
  {
   "cell_type": "code",
   "execution_count": 4,
   "id": "4a173823",
   "metadata": {},
   "outputs": [
    {
     "name": "stdout",
     "output_type": "stream",
     "text": [
      "False\n",
      "False\n",
      "True\n"
     ]
    }
   ],
   "source": [
    "## AND ,Not ,OR\n",
    "X=False\n",
    "Y=False\n",
    "result=X and Y\n",
    "result_1=X or Y\n",
    "result_2=not X\n",
    "print(result)\n",
    "print(result_1)\n",
    "print(result_2)"
   ]
  },
  {
   "cell_type": "code",
   "execution_count": 5,
   "id": "7c56402e",
   "metadata": {},
   "outputs": [
    {
     "name": "stdout",
     "output_type": "stream",
     "text": [
      "The result is: 4.0\n"
     ]
    }
   ],
   "source": [
    "##simple calculator\n",
    "num1 = float(input(\"Enter first number: \"))\n",
    "num2 = float(input(\"Enter second number: \"))\n",
    "operation = input(\"Enter operation (+, -, *, /,//,%): \")\n",
    "if operation == '+':\n",
    "    result = num1 + num2    \n",
    "elif operation == '-':\n",
    "    result = num1 - num2\n",
    "elif operation == '*':\n",
    "    result = num1 * num2\n",
    "elif operation == '/':\n",
    "    result = num1 / num2\n",
    "elif operation == '//':\n",
    "    result = num1 // num2\n",
    "elif operation == '%':\n",
    "    result = num1 % num2\n",
    "else:\n",
    "    result = \"Invalid operation\"\n",
    "print(\"The result is:\", result)\n"
   ]
  }
 ],
 "metadata": {
  "kernelspec": {
   "display_name": "venv",
   "language": "python",
   "name": "python3"
  },
  "language_info": {
   "codemirror_mode": {
    "name": "ipython",
    "version": 3
   },
   "file_extension": ".py",
   "mimetype": "text/x-python",
   "name": "python",
   "nbconvert_exporter": "python",
   "pygments_lexer": "ipython3",
   "version": "3.10.0"
  }
 },
 "nbformat": 4,
 "nbformat_minor": 5
}
