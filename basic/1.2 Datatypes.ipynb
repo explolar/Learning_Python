{
 "cells": [
  {
   "cell_type": "markdown",
   "id": "b48f229e",
   "metadata": {},
   "source": [
    "Data Type\\\n",
    "Data Types are a classification of data which tells compiler of interpretor how the programmer intend to use the code\n"
   ]
  },
  {
   "cell_type": "code",
   "execution_count": null,
   "id": "7f12ffce",
   "metadata": {
    "vscode": {
     "languageId": "plaintext"
    }
   },
   "outputs": [],
   "source": []
  }
 ],
 "metadata": {
  "language_info": {
   "name": "python"
  }
 },
 "nbformat": 4,
 "nbformat_minor": 5
}
