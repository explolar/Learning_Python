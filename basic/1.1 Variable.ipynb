{
 "cells": [
  {
   "cell_type": "markdown",
   "id": "9e23a898",
   "metadata": {},
   "source": [
    "Variable-these are the fundamental element in programming used to store data that can be reference and manupulated in programm"
   ]
  },
  {
   "cell_type": "code",
   "execution_count": 1,
   "id": "df1184ce",
   "metadata": {},
   "outputs": [],
   "source": [
    "a=100"
   ]
  },
  {
   "cell_type": "code",
   "execution_count": 2,
   "id": "46980368",
   "metadata": {},
   "outputs": [
    {
     "name": "stdout",
     "output_type": "stream",
     "text": [
      "Age: 21\n",
      "Height: 5.8\n",
      "Name: Ankit\n",
      "Is Student: True\n"
     ]
    }
   ],
   "source": [
    "##Declaring and Assigning variables\n",
    "age=21  \n",
    "Height=5.8  \n",
    "name=\"Ankit\"\n",
    "is_student=True\n",
    "print(\"Age:\",age)\n",
    "print(\"Height:\",Height)\n",
    "print(\"Name:\",name)     \n",
    "print(\"Is Student:\",is_student)"
   ]
  },
  {
   "cell_type": "code",
   "execution_count": 3,
   "id": "5807cb27",
   "metadata": {},
   "outputs": [],
   "source": [
    "##Naming Conventions\n",
    "#1. Variable names must start with a letter (a-z, A-Z) or an underscore (_).\n",
    "#2. The rest of the variable name can contain letters, numbers (0-9), and underscores.\n",
    "#3. Variable names are case-sensitive (e.g., myVar and myvar are different variables).\n",
    "#4. Avoid using Python reserved keywords as variable names (e.g., if, else, while, for, etc.).      \n",
    "#5. Use meaningful names that describe the purpose of the variable.\n",
    "#6. Use underscores to separate words in variable names (e.g., my_variable_name).\n",
    "#7. Avoid using special characters or spaces in variable names.             \n",
    "#8. Variable names should not start with a number.\n",
    "first_name = \"Ankit\"  # Valid\n",
    "_lastName = \"Kumar\"   # Valid"
   ]
  },
  {
   "cell_type": "code",
   "execution_count": 6,
   "id": "c4e23159",
   "metadata": {},
   "outputs": [
    {
     "ename": "SyntaxError",
     "evalue": "invalid decimal literal (2174210447.py, line 2)",
     "output_type": "error",
     "traceback": [
      "\u001b[1;36m  Cell \u001b[1;32mIn[6], line 2\u001b[1;36m\u001b[0m\n\u001b[1;33m    2nd_place = \"John\"   # Invalid: starts with a number\u001b[0m\n\u001b[1;37m    ^\u001b[0m\n\u001b[1;31mSyntaxError\u001b[0m\u001b[1;31m:\u001b[0m invalid decimal literal\n"
     ]
    }
   ],
   "source": [
    "#Invalid variable names\n",
    "2nd_place = \"John\"   # Invalid: starts with a number\n",
    "user-name = \"Alice\"  # Invalid: contains a hyphen\n",
    "name@age = 25       # Invalid: contains a special character"
   ]
  },
  {
   "cell_type": "code",
   "execution_count": 8,
   "id": "d2cd09aa",
   "metadata": {},
   "outputs": [
    {
     "name": "stdout",
     "output_type": "stream",
     "text": [
      "<class 'int'>\n",
      "<class 'float'>\n",
      "<class 'str'>\n",
      "<class 'bool'>\n"
     ]
    }
   ],
   "source": [
    "##Understanding variable types\n",
    "##Python is dynamically typed language,which means type of variable is determined at runtime.\n",
    "age=21\n",
    "height=5.8  \n",
    "name=\"Ankit\"\n",
    "is_student=True\n",
    "print(type(age))          # Output: <class 'int'>\n",
    "print(type(height))       # Output: <class 'float'>     \n",
    "print(type(name))         # Output: <class 'str'>\n",
    "print(type(is_student))   # Output: <class 'bool'>"
   ]
  },
  {
   "cell_type": "code",
   "execution_count": 9,
   "id": "cc615766",
   "metadata": {},
   "outputs": [
    {
     "data": {
      "text/plain": [
       "float"
      ]
     },
     "execution_count": 9,
     "metadata": {},
     "output_type": "execute_result"
    }
   ],
   "source": [
    "##type checking and conversion\n",
    "type(height)"
   ]
  },
  {
   "cell_type": "code",
   "execution_count": 10,
   "id": "813c30b5",
   "metadata": {},
   "outputs": [
    {
     "name": "stdout",
     "output_type": "stream",
     "text": [
      "<class 'int'>\n",
      "25\n",
      "<class 'str'>\n"
     ]
    }
   ],
   "source": [
    "age=25\n",
    "print(type(age))  \n",
    "age_str=str(age)\n",
    "print(age_str)\n",
    "print(type(age_str))"
   ]
  },
  {
   "cell_type": "code",
   "execution_count": 11,
   "id": "87cc1718",
   "metadata": {},
   "outputs": [
    {
     "ename": "ValueError",
     "evalue": "invalid literal for int() with base 10: 'Ankit'",
     "output_type": "error",
     "traceback": [
      "\u001b[1;31m---------------------------------------------------------------------------\u001b[0m",
      "\u001b[1;31mValueError\u001b[0m                                Traceback (most recent call last)",
      "Cell \u001b[1;32mIn[11], line 2\u001b[0m\n\u001b[0;32m      1\u001b[0m name\u001b[38;5;241m=\u001b[39m\u001b[38;5;124m\"\u001b[39m\u001b[38;5;124mAnkit\u001b[39m\u001b[38;5;124m\"\u001b[39m\n\u001b[1;32m----> 2\u001b[0m \u001b[38;5;28;43mint\u001b[39;49m\u001b[43m(\u001b[49m\u001b[43mname\u001b[49m\u001b[43m)\u001b[49m\n",
      "\u001b[1;31mValueError\u001b[0m: invalid literal for int() with base 10: 'Ankit'"
     ]
    }
   ],
   "source": [
    "name=\"Ankit\"\n",
    "int(name)"
   ]
  },
  {
   "cell_type": "code",
   "execution_count": 12,
   "id": "8519b96c",
   "metadata": {},
   "outputs": [
    {
     "data": {
      "text/plain": [
       "5"
      ]
     },
     "execution_count": 12,
     "metadata": {},
     "output_type": "execute_result"
    }
   ],
   "source": [
    "height=5.9\n",
    "int(height)"
   ]
  },
  {
   "cell_type": "code",
   "execution_count": 13,
   "id": "c5ff8efd",
   "metadata": {},
   "outputs": [
    {
     "data": {
      "text/plain": [
       "5.0"
      ]
     },
     "execution_count": 13,
     "metadata": {},
     "output_type": "execute_result"
    }
   ],
   "source": [
    "float(int(height))"
   ]
  },
  {
   "cell_type": "code",
   "execution_count": 16,
   "id": "e658715f",
   "metadata": {},
   "outputs": [
    {
     "name": "stdout",
     "output_type": "stream",
     "text": [
      "10 <class 'int'>\n",
      "Hello <class 'str'>\n",
      "3.14 <class 'float'>\n"
     ]
    }
   ],
   "source": [
    "##Dynamic Typing\n",
    "##Python allows you to change the type of a variable by reassigning it to a different value as programm execute\n",
    "var=10\n",
    "print(var,type(var)) \n",
    "var=\"Hello\"\n",
    "print(var,type(var))\n",
    "var=3.14\n",
    "print(var,type(var))\n"
   ]
  },
  {
   "cell_type": "code",
   "execution_count": 19,
   "id": "d9770154",
   "metadata": {},
   "outputs": [
    {
     "name": "stdout",
     "output_type": "stream",
     "text": [
      "Your age is: 22 <class 'int'>\n"
     ]
    }
   ],
   "source": [
    "##input\n",
    "\n",
    "age=int(input(\"Enter your age: \"))\n",
    "print(\"Your age is:\",age,type(age))"
   ]
  },
  {
   "cell_type": "code",
   "execution_count": 20,
   "id": "ab76bc8a",
   "metadata": {},
   "outputs": [
    {
     "name": "stdout",
     "output_type": "stream",
     "text": [
      "The sum of 24.0 and 12.0 is: 36.0\n",
      "The difference of 24.0 and 12.0 is: 12.0\n",
      "The product of 24.0 and 12.0 is: 288.0\n",
      "The quotient of 24.0 and 12.0 is: 2.0\n"
     ]
    }
   ],
   "source": [
    "##simple calculator\n",
    "num1=float(input(\"Enter first number: \"))   \n",
    "num2=float(input(\"Enter second number: \"))\n",
    "sum=num1+num2\n",
    "difference=num1-num2\n",
    "product=num1*num2\n",
    "quotient=num1/num2\n",
    "print(\"The sum of\",num1,\"and\",num2,\"is:\",sum)\n",
    "print(\"The difference of\",num1,\"and\",num2,\"is:\",difference)\n",
    "print(\"The product of\",num1,\"and\",num2,\"is:\",product)\n",
    "print(\"The quotient of\",num1,\"and\",num2,\"is:\",quotient)\n"
   ]
  },
  {
   "cell_type": "code",
   "execution_count": null,
   "id": "d145b87a",
   "metadata": {},
   "outputs": [],
   "source": []
  }
 ],
 "metadata": {
  "kernelspec": {
   "display_name": "Python 3",
   "language": "python",
   "name": "python3"
  },
  "language_info": {
   "codemirror_mode": {
    "name": "ipython",
    "version": 3
   },
   "file_extension": ".py",
   "mimetype": "text/x-python",
   "name": "python",
   "nbconvert_exporter": "python",
   "pygments_lexer": "ipython3",
   "version": "3.10.0"
  }
 },
 "nbformat": 4,
 "nbformat_minor": 5
}
