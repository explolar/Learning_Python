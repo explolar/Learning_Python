{
 "cells": [
  {
   "cell_type": "markdown",
   "id": "78c7f612",
   "metadata": {},
   "source": [
    "Syntex - Refers to sets of rules that are considerd to be correctly structred programm in a language \\\n",
    "sementics-meaning /interpretation of symbon,characters and command in a language."
   ]
  },
  {
   "cell_type": "code",
   "execution_count": 2,
   "id": "271d0220",
   "metadata": {},
   "outputs": [
    {
     "name": "stdout",
     "output_type": "stream",
     "text": [
      "Ankit\n",
      "Kumar\n"
     ]
    }
   ],
   "source": [
    "## Basic Syntex rules\n",
    "## Case Sensitive\n",
    "name=\"Ankit\"\n",
    "Name=\"Kumar\"\n",
    "print(name) \n",
    "print(Name)"
   ]
  },
  {
   "cell_type": "markdown",
   "id": "27178112",
   "metadata": {},
   "source": [
    "Indentation in python is used to define the structure and hierarchy of the code.Python uses indentation to determine the grouping of statement instead of {} bracesto delimit."
   ]
  },
  {
   "cell_type": "code",
   "execution_count": 4,
   "id": "3d021c0f",
   "metadata": {},
   "outputs": [
    {
     "name": "stdout",
     "output_type": "stream",
     "text": [
      "You are eligible to vote\n",
      "25\n"
     ]
    }
   ],
   "source": [
    "age=25\n",
    "if age>=18:\n",
    "    print(\"You are eligible to vote\")\n",
    "    if age>60:\n",
    "        print(\"You are senior citizen\")\n",
    "print(age)"
   ]
  },
  {
   "cell_type": "code",
   "execution_count": 5,
   "id": "00c5fb8a",
   "metadata": {},
   "outputs": [
    {
     "name": "stdout",
     "output_type": "stream",
     "text": [
      "82\n"
     ]
    }
   ],
   "source": [
    "## Line Continuation\n",
    "total=1+2+3+4+5+6+7+8+9+\\\n",
    "4+10+11+12\n",
    "print(total)"
   ]
  },
  {
   "cell_type": "code",
   "execution_count": 6,
   "id": "6e2c3ec0",
   "metadata": {},
   "outputs": [
    {
     "name": "stdout",
     "output_type": "stream",
     "text": [
      "15\n"
     ]
    }
   ],
   "source": [
    "##Multiple Statements in a Single Line\n",
    "a=5; b=10; c=a+b; print(c)"
   ]
  },
  {
   "cell_type": "code",
   "execution_count": 7,
   "id": "2b53e637",
   "metadata": {},
   "outputs": [],
   "source": [
    "##Understanding Sementics in Python\n",
    "age=32 \n",
    "name=\"Ankit\"\n",
    "height=5.9"
   ]
  },
  {
   "cell_type": "code",
   "execution_count": 8,
   "id": "b341078b",
   "metadata": {},
   "outputs": [
    {
     "data": {
      "text/plain": [
       "float"
      ]
     },
     "execution_count": 8,
     "metadata": {},
     "output_type": "execute_result"
    }
   ],
   "source": [
    "type(age)\n",
    "type(name)  \n",
    "type(height)"
   ]
  },
  {
   "cell_type": "code",
   "execution_count": 9,
   "id": "5063c8de",
   "metadata": {},
   "outputs": [
    {
     "data": {
      "text/plain": [
       "str"
      ]
     },
     "execution_count": 9,
     "metadata": {},
     "output_type": "execute_result"
    }
   ],
   "source": [
    "type(name)"
   ]
  },
  {
   "cell_type": "code",
   "execution_count": 10,
   "id": "c598ea57",
   "metadata": {},
   "outputs": [
    {
     "data": {
      "text/plain": [
       "int"
      ]
     },
     "execution_count": 10,
     "metadata": {},
     "output_type": "execute_result"
    }
   ],
   "source": [
    "type(age)"
   ]
  },
  {
   "cell_type": "code",
   "execution_count": 11,
   "id": "e7dd7a47",
   "metadata": {},
   "outputs": [
    {
     "name": "stdout",
     "output_type": "stream",
     "text": [
      "<class 'int'>\n",
      "<class 'str'>\n"
     ]
    }
   ],
   "source": [
    "##type Interference\n",
    "vars=10\n",
    "print(type(vars))\n",
    "vars=\"Ankit\"\n",
    "print(type(vars))"
   ]
  },
  {
   "cell_type": "code",
   "execution_count": null,
   "id": "6d5c914b",
   "metadata": {},
   "outputs": [],
   "source": []
  }
 ],
 "metadata": {
  "kernelspec": {
   "display_name": "Python 3",
   "language": "python",
   "name": "python3"
  },
  "language_info": {
   "codemirror_mode": {
    "name": "ipython",
    "version": 3
   },
   "file_extension": ".py",
   "mimetype": "text/x-python",
   "name": "python",
   "nbconvert_exporter": "python",
   "pygments_lexer": "ipython3",
   "version": "3.10.0"
  }
 },
 "nbformat": 4,
 "nbformat_minor": 5
}
