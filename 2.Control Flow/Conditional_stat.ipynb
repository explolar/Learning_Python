{
 "cells": [
  {
   "cell_type": "code",
   "execution_count": 1,
   "id": "76d7f675",
   "metadata": {},
   "outputs": [
    {
     "name": "stdout",
     "output_type": "stream",
     "text": [
      "You are eligible to vote.\n"
     ]
    }
   ],
   "source": [
    "## if statement\n",
    "age=20\n",
    "if age>=18:\n",
    "    print(\"You are eligible to vote.\")"
   ]
  },
  {
   "cell_type": "code",
   "execution_count": 2,
   "id": "3db6d5aa",
   "metadata": {},
   "outputs": [
    {
     "name": "stdout",
     "output_type": "stream",
     "text": [
      "You are not eligible to vote.\n"
     ]
    }
   ],
   "source": [
    "## Else statement\n",
    "## the else block will be executed when the if condition is False\n",
    "age=16\n",
    "if age>=18:\n",
    "    print(\"You are eligible to vote.\")\n",
    "else:\n",
    "    print(\"You are not eligible to vote.\")"
   ]
  },
  {
   "cell_type": "code",
   "execution_count": 3,
   "id": "e47f9b88",
   "metadata": {},
   "outputs": [
    {
     "name": "stdout",
     "output_type": "stream",
     "text": [
      "You are an adult.\n"
     ]
    }
   ],
   "source": [
    "##elif statement\n",
    "## when we have multiple conditions to check we can use elif statement.it is short form of else if\n",
    "age=20\n",
    "if age<13:\n",
    "    print(\"You are a child.\")\n",
    "elif age>=13 and age<20:\n",
    "    print(\"You are a teenager.\")\n",
    "else:\n",
    "    print(\"You are an adult.\")\n"
   ]
  },
  {
   "cell_type": "code",
   "execution_count": 4,
   "id": "3b63f98b",
   "metadata": {},
   "outputs": [
    {
     "name": "stdout",
     "output_type": "stream",
     "text": [
      "You entered zero.\n"
     ]
    }
   ],
   "source": [
    "## Nested Conditional statements\n",
    "##you can also use if..else elif statements inside another if..else elif  statement.this is called nested conditional statement.\n",
    "num=int(input(\"Enter an integer: \"))\n",
    "if num>=0:\n",
    "    if num==0:\n",
    "        print(\"You entered zero.\")\n",
    "    else:\n",
    "        print(\"You entered a positive integer.\")\n",
    "else:\n",
    "    print(\"You entered a negative integer.\")    \n"
   ]
  },
  {
   "cell_type": "code",
   "execution_count": 7,
   "id": "0ad92d24",
   "metadata": {},
   "outputs": [
    {
     "name": "stdout",
     "output_type": "stream",
     "text": [
      "2025 is not a leap year\n"
     ]
    }
   ],
   "source": [
    "## Practice Questions\n",
    "#Determine whether a given year is a leap year or not.\n",
    "a=int(input(\"Enter year: \"))\n",
    "if a%4==0:\n",
    "    if a%100!=0:\n",
    "        if a%400==0:    \n",
    "            print(a,\"is a leap year\")\n",
    "        else:\n",
    "            print(a,\"is not a leap year\")\n",
    "    else:\n",
    "        print(a,\"is  a leap year\")\n",
    "else:\n",
    "    print(a,\"is not a leap year\")\n",
    "\n"
   ]
  }
 ],
 "metadata": {
  "kernelspec": {
   "display_name": "venv",
   "language": "python",
   "name": "python3"
  },
  "language_info": {
   "codemirror_mode": {
    "name": "ipython",
    "version": 3
   },
   "file_extension": ".py",
   "mimetype": "text/x-python",
   "name": "python",
   "nbconvert_exporter": "python",
   "pygments_lexer": "ipython3",
   "version": "3.10.0"
  }
 },
 "nbformat": 4,
 "nbformat_minor": 5
}
