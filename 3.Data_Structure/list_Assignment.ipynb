{
 "cells": [
  {
   "cell_type": "markdown",
   "metadata": {},
   "source": [
    "# Module 3: Data Structures Assignments\n",
    "## Lesson 3.1: Lists\n",
    "### Assignment 1: Creating and Accessing Lists\n",
    "\n",
    "Create a list of the first 20 positive integers. Print the list.\n",
    "\n",
    "### Assignment 2: Accessing List Elements\n",
    "\n",
    "Print the first, middle, and last elements of the list created in Assignment 1.\n",
    "\n",
    "### Assignment 3: List Slicing\n",
    "\n",
    "Print the first five elements, the last five elements, and the elements from index 5 to 15 of the list created in Assignment 1.\n",
    "\n",
    "### Assignment 4: List Comprehensions\n",
    "\n",
    "Create a new list containing the squares of the first 10 positive integers using a list comprehension. Print the new list.\n",
    "\n",
    "### Assignment 5: Filtering Lists\n",
    "\n",
    "Create a new list containing only the even numbers from the list created in Assignment 1 using a list comprehension. Print the new list.\n",
    "\n",
    "### Assignment 6: List Methods\n",
    "\n",
    "Create a list of random numbers and sort it in ascending and descending order. Remove the duplicates from the list and print the modified list.\n",
    "\n",
    "### Assignment 7: Nested Lists\n",
    "\n",
    "Create a nested list representing a 3x3 matrix and print the matrix. Access and print the element at the second row and third column.\n",
    "\n",
    "### Assignment 8: List of Dictionaries\n",
    "\n",
    "Create a list of dictionaries where each dictionary represents a student with keys 'name' and 'score'. Sort the list of dictionaries by the 'score' in descending order and print the sorted list.\n",
    "\n",
    "### Assignment 9: Matrix Transposition\n",
    "\n",
    "Write a function that takes a 3x3 matrix (nested list) as input and returns its transpose. Print the original and transposed matrices.\n",
    "\n",
    "### Assignment 10: Flattening a Nested List\n",
    "\n",
    "Write a function that takes a nested list and flattens it into a single list. Print the original and flattened lists.\n",
    "\n",
    "### Assignment 11: List Manipulation\n",
    "\n",
    "Create a list of the first 10 positive integers. Remove the elements at indices 2, 4, and 6, and insert the element '99' at index 5. Print the modified list.\n",
    "\n",
    "### Assignment 12: List Zipping\n",
    "\n",
    "Create two lists of the same length. Use the `zip` function to combine these lists into a list of tuples and print the result.\n",
    "\n",
    "### Assignment 13: List Reversal\n",
    "\n",
    "Write a function that takes a list and returns a new list with the elements in reverse order. Print the original and reversed lists.\n",
    "\n",
    "### Assignment 14: List Rotation\n",
    "\n",
    "Write a function that rotates a list by n positions. Print the original and rotated lists.\n",
    "\n",
    "### Assignment 15: List Intersection\n",
    "\n",
    "Write a function that takes two lists and returns a new list containing only the elements that are present in both lists. Print the intersected list."
   ]
  },
  {
   "cell_type": "code",
   "execution_count": 1,
   "metadata": {},
   "outputs": [
    {
     "name": "stdout",
     "output_type": "stream",
     "text": [
      "[1, 2, 3, 4, 5, 6, 7, 8, 9, 10, 11, 12, 13, 14, 15, 16, 17, 18, 19, 20]\n"
     ]
    }
   ],
   "source": [
    "## Create a list of the first 20 positive integers. Print the list.\n",
    "numbers=list(range(1, 21 ))\n",
    "print(numbers)"
   ]
  },
  {
   "cell_type": "code",
   "execution_count": 2,
   "id": "85befcda",
   "metadata": {},
   "outputs": [
    {
     "data": {
      "text/plain": [
       "[1, 2, 3, 4, 5, 6, 7, 8, 9, 10, 11, 12, 13, 14, 15, 16, 17, 18, 19, 20]"
      ]
     },
     "execution_count": 2,
     "metadata": {},
     "output_type": "execute_result"
    }
   ],
   "source": [
    "[num for num in range(1, 21 )]"
   ]
  },
  {
   "cell_type": "code",
   "execution_count": 5,
   "id": "0768c92d",
   "metadata": {},
   "outputs": [
    {
     "name": "stdout",
     "output_type": "stream",
     "text": [
      "First element: 1\n",
      "Middle element: 11\n",
      "Last element: 20\n"
     ]
    }
   ],
   "source": [
    "## Print the first, middle, and last elements of the list\n",
    "print(\"First element:\", numbers[0])\n",
    "print(\"Middle element:\", numbers[len(numbers)//2]) # For even-length lists, this gives the lower middle\n",
    "print(\"Last element:\", numbers[-1])\n"
   ]
  },
  {
   "cell_type": "code",
   "execution_count": 10,
   "id": "ec410bb8",
   "metadata": {},
   "outputs": [
    {
     "name": "stdout",
     "output_type": "stream",
     "text": [
      "first five element: [1, 2, 3, 4, 5]\n",
      "last five element : [26, 27, 28, 29, 30]\n",
      "element from  5 to 15 index : [6, 7, 8, 9, 10, 11, 12, 13, 14, 15, 16]\n"
     ]
    }
   ],
   "source": [
    "## Print the first five elements, the last five elements, and the elements from index 5 to 15 of the list\n",
    "list=[num for num in range(1,31)]\n",
    "print(\"first five element:\",list[:5])\n",
    "print(\"last five element :\",list[-5:])\n",
    "print(\"element from  5 to 15 index :\",list[5:16])"
   ]
  },
  {
   "cell_type": "code",
   "execution_count": 12,
   "id": "c9373d1b",
   "metadata": {},
   "outputs": [
    {
     "name": "stdout",
     "output_type": "stream",
     "text": [
      "squares of first 10 positive integers : [1, 4, 9, 16, 25, 36, 49, 64, 81, 100]\n"
     ]
    }
   ],
   "source": [
    "## Create a new list containing the squares of the first 10 positive integers using a list comprehension. Print the new list.\n",
    "squares=[num**2 for num in range (1,11)]\n",
    "print(\"squares of first 10 positive integers :\",squares)"
   ]
  },
  {
   "cell_type": "code",
   "execution_count": 15,
   "id": "3956d843",
   "metadata": {},
   "outputs": [
    {
     "name": "stdout",
     "output_type": "stream",
     "text": [
      "even numbers from 1 to 10 : [2, 4, 6, 8, 10]\n"
     ]
    }
   ],
   "source": [
    "## Create a new list containing only the even numbers from the list created  using a list comprehension. Print the new list.\n",
    "even_no=[num for num in range(1,11) if num%2==0]\n",
    "print(\"even numbers from 1 to 10 :\",even_no)"
   ]
  },
  {
   "cell_type": "code",
   "execution_count": 2,
   "id": "dfd969e9",
   "metadata": {},
   "outputs": [
    {
     "name": "stdout",
     "output_type": "stream",
     "text": [
      "random number list : [4, 17, 31, 45, 59, 5, 98, 71, 75, 14]\n",
      "sorted in descending order : [98, 75, 71, 59, 45, 31, 17, 14, 5, 4]\n",
      "sorted in ascending order : [4, 5, 14, 17, 31, 45, 59, 71, 75, 98]\n",
      "modified list after removing duplicates : [98, 4, 5, 71, 75, 45, 14, 17, 59, 31]\n"
     ]
    }
   ],
   "source": [
    "## Create a list of random numbers and sort it in ascending and descending order. Remove the duplicates from the list and print the modified list.\n",
    "\n",
    "import random\n",
    "\n",
    "random_number=[random.randint(1,100)for _ in range(10)]\n",
    "\n",
    "print(\"random number list :\",random_number)\n",
    "\n",
    "sorted_asc=sorted(random_number,reverse=False)\n",
    "\n",
    "sorted_desc=sorted(random_number,reverse=True)\n",
    "\n",
    "print(\"sorted in descending order :\",sorted_desc)\n",
    "\n",
    "print(\"sorted in ascending order :\",sorted_asc)\n",
    "\n",
    "modified_list=list(set(random_number)) #removing duplicates using set()\n",
    "\n",
    "print(\"modified list after removing duplicates :\",modified_list)"
   ]
  },
  {
   "cell_type": "code",
   "execution_count": 3,
   "id": "1d5938f0",
   "metadata": {},
   "outputs": [
    {
     "name": "stdout",
     "output_type": "stream",
     "text": [
      "3x3 matrix :\n",
      "[1, 2, 3]\n",
      "[4, 5, 6]\n",
      "[7, 8, 9]\n",
      "element at second row and third column : 6\n"
     ]
    }
   ],
   "source": [
    "## Create a nested list representing a 3x3 matrix and print the matrix. Access and print the element at the second row and third column.\n",
    "matrix=[[1,2,3],\n",
    "        [4,5,6],\n",
    "        [7,8,9]]\n",
    "print(\"3x3 matrix :\")\n",
    "for row in matrix:\n",
    "    print(row)\n",
    "print(\"element at second row and third column :\",matrix[1][2])\n"
   ]
  },
  {
   "cell_type": "code",
   "execution_count": 5,
   "id": "b24a7e1b",
   "metadata": {},
   "outputs": [
    {
     "name": "stdout",
     "output_type": "stream",
     "text": [
      "original list : [[1, 2, 3], [4, 5], [6, 7, 8, 9]]\n",
      "flattened list : [1, 2, 3, 4, 5, 6, 7, 8, 9]\n"
     ]
    }
   ],
   "source": [
    "## Write a function that takes a nested list and flattens it into a single list. Print the original and flattened lists.\n",
    "def flatten(nested_list):\n",
    "    flat_list=[]\n",
    "    for sublist in nested_list:\n",
    "        for item in sublist:\n",
    "            flat_list.append(item)\n",
    "    return flat_list\n",
    "original_list=[[1,2,3],[4,5],[6,7,8,9]]\n",
    "flattened_list=flatten(original_list)\n",
    "print(\"original list :\",original_list)\n",
    "print(\"flattened list :\",flattened_list)"
   ]
  },
  {
   "cell_type": "code",
   "execution_count": 8,
   "id": "6665c566",
   "metadata": {},
   "outputs": [
    {
     "name": "stdout",
     "output_type": "stream",
     "text": [
      "students sorted by score in descending order : [{'name': 'Bob', 'score': 92}, {'name': 'David', 'score': 90}, {'name': 'Alice', 'score': 85}, {'name': 'Charlie', 'score': 78}]\n"
     ]
    }
   ],
   "source": [
    "## Create a list of dictionaries where each dictionary represents a student with keys 'name' and 'score'. Sort the list of dictionaries by the 'score' in descending order and print the sorted list.\n",
    "students=[\n",
    "    {'name':'Alice','score':85},\n",
    "    {'name':'Bob','score':92},\n",
    "    {'name':'Charlie','score':78},\n",
    "    {'name':'David','score':90}\n",
    "]   \n",
    "sorted_students=sorted(students,key=lambda x:x['score'],reverse=True) ##sorting by score in descending order\n",
    "print(\"students sorted by score in descending order :\",sorted_students)\n"
   ]
  },
  {
   "cell_type": "code",
   "execution_count": 9,
   "id": "298af7ae",
   "metadata": {},
   "outputs": [
    {
     "name": "stdout",
     "output_type": "stream",
     "text": [
      "original matrix :\n",
      "[1, 2, 3]\n",
      "[4, 5, 6]\n",
      "[7, 8, 9]\n",
      "transposed matrix :\n",
      "[1, 4, 7]\n",
      "[2, 5, 8]\n",
      "[3, 6, 9]\n"
     ]
    }
   ],
   "source": [
    "## Write a function that takes a 3x3 matrix (nested list) as input and returns its transpose. Print the original and transposed matrices.\n",
    "def transpose(matrix):\n",
    "    transposed=[]\n",
    "    for i in range(len(matrix)):\n",
    "        new_row=[]\n",
    "        for j in range(len(matrix)):\n",
    "            new_row.append(matrix[j][i])\n",
    "        transposed.append(new_row)\n",
    "    return transposed\n",
    "original_matrix=[[1,2,3],\n",
    "                 [4,5,6],\n",
    "                 [7,8,9]]\n",
    "transposed_matrix=transpose(original_matrix)\n",
    "print(\"original matrix :\")\n",
    "for row in original_matrix:\n",
    "    print(row)\n",
    "\n",
    "print(\"transposed matrix :\")\n",
    "for row in transposed_matrix:\n",
    "    print(row)\n",
    "    "
   ]
  },
  {
   "cell_type": "code",
   "execution_count": 12,
   "id": "0242d165",
   "metadata": {},
   "outputs": [
    {
     "name": "stdout",
     "output_type": "stream",
     "text": [
      "modified list after removing elements at indices 2,4,6 and inserting 99 at index 5 : [1, 2, 4, 6, 8, 99, 9, 10]\n"
     ]
    }
   ],
   "source": [
    "## Create a list of the first 10 positive integers. Remove the elements at indices 2, 4, and 6, and insert the element '99' at index 5. Print the modified list.\n",
    "numbers=list(range(1,11))\n",
    "indices_to_remove=[6,4,2]  #removing from higher index to lower index to avoid index shifting\n",
    "for index in indices_to_remove:\n",
    "    numbers.pop(index)\n",
    "numbers.insert(5,99)\n",
    "print(\"modified list after removing elements at indices 2,4,6 and inserting 99 at index 5 :\",numbers)\n"
   ]
  },
  {
   "cell_type": "code",
   "execution_count": 14,
   "id": "926f3c2e",
   "metadata": {},
   "outputs": [
    {
     "name": "stdout",
     "output_type": "stream",
     "text": [
      "zipped list of tuples : [('a', 1), ('b', 2), ('c', 3), ('d', 4), ('e', 5)]\n"
     ]
    }
   ],
   "source": [
    "## Create two lists of the same length. Use the `zip` function to combine these lists into a list of tuples and print the result.\n",
    "list1=['a','b','c','d','e']\n",
    "list2=[1,2,3,4,5]\n",
    "zipped_list=list(zip(list1,list2)) #zipping two lists into list of tuples\n",
    "print(\"zipped list of tuples :\",zipped_list)\n"
   ]
  },
  {
   "cell_type": "code",
   "execution_count": 15,
   "id": "7ffa69ea",
   "metadata": {},
   "outputs": [
    {
     "name": "stdout",
     "output_type": "stream",
     "text": [
      "original list : [1, 2, 3, 4, 5]\n",
      "reversed list : [5, 4, 3, 2, 1]\n"
     ]
    }
   ],
   "source": [
    "## Write a function that takes a list and returns a new list with the elements in reverse order. Print the original and reversed lists.\n",
    "def reverse_list(input_list):\n",
    "    reversed_list=input_list[::-1]\n",
    "    return reversed_list\n",
    "original_list=[1,2,3,4,5]\n",
    "reversed_list=reverse_list(original_list)\n",
    "print(\"original list :\",original_list)\n",
    "print(\"reversed list :\",reversed_list)\n"
   ]
  },
  {
   "cell_type": "code",
   "execution_count": 17,
   "id": "b3bb2865",
   "metadata": {},
   "outputs": [
    {
     "name": "stdout",
     "output_type": "stream",
     "text": [
      "original list : [1, 2, 3, 4, 5]\n",
      "rotated list : [4, 5, 1, 2, 3]\n"
     ]
    }
   ],
   "source": [
    "## Write a function that rotates a list by n positions. Print the original and rotated lists.\n",
    "def rotate_list(input_list, n):\n",
    "    n = n % len(input_list)  # Handle rotation greater than list length\n",
    "    rotated_list = input_list[-n:] + input_list[:-n]\n",
    "    return rotated_list\n",
    "original_list=[1,2,3,4,5]\n",
    "rotated_list=rotate_list(original_list,2)\n",
    "print(\"original list :\",original_list)\n",
    "print(\"rotated list :\",rotated_list)"
   ]
  },
  {
   "cell_type": "code",
   "execution_count": 18,
   "id": "908ef43d",
   "metadata": {},
   "outputs": [
    {
     "name": "stdout",
     "output_type": "stream",
     "text": [
      "intersected list : [4, 5]\n"
     ]
    }
   ],
   "source": [
    "## Write a function that takes two lists and returns a new list containing only the elements that are present in both lists. Print the intersected list.\n",
    "def intersect_lists(list1, list2):\n",
    "    intersected_list = [item for item in list1 if item in list2]\n",
    "    return intersected_list\n",
    "list_a=[1,2,3,4,5]\n",
    "list_b=[4,5,6,7,8]\n",
    "intersected_list=intersect_lists(list_a,list_b)\n",
    "print(\"intersected list :\",intersected_list)\n"
   ]
  }
 ],
 "metadata": {
  "kernelspec": {
   "display_name": "venv",
   "language": "python",
   "name": "python3"
  },
  "language_info": {
   "codemirror_mode": {
    "name": "ipython",
    "version": 3
   },
   "file_extension": ".py",
   "mimetype": "text/x-python",
   "name": "python",
   "nbconvert_exporter": "python",
   "pygments_lexer": "ipython3",
   "version": "3.10.0"
  }
 },
 "nbformat": 4,
 "nbformat_minor": 5
}
