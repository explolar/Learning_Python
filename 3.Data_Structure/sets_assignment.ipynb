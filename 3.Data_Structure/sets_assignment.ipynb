{
 "cells": [
  {
   "cell_type": "markdown",
   "metadata": {},
   "source": [
    "# Module 3: Data Structures Assignments\n",
    "## Lesson 3.3: Sets\n",
    "### Assignment 1: Creating and Accessing Sets\n",
    "\n",
    "Create a set with the first 10 positive integers. Print the set.\n",
    "\n",
    "### Assignment 2: Adding and Removing Elements\n",
    "\n",
    "Add the number 11 to the set created in Assignment 1. Then remove the number 1 from the set. Print the modified set.\n",
    "\n",
    "### Assignment 3: Set Operations\n",
    "\n",
    "Create two sets: one with the first 5 positive integers and another with the first 5 even integers. Perform and print the results of union, intersection, difference, and symmetric difference operations on these sets.\n",
    "\n",
    "### Assignment 4: Set Comprehensions\n",
    "\n",
    "Create a new set containing the squares of the first 10 positive integers using a set comprehension. Print the new set.\n",
    "\n",
    "### Assignment 5: Filtering Sets\n",
    "\n",
    "Create a new set containing only the even numbers from the set created in Assignment 1 using a set comprehension. Print the new set.\n",
    "\n",
    "### Assignment 6: Set Methods\n",
    "\n",
    "Create a set with duplicate elements and remove the duplicates using set methods. Print the modified set.\n",
    "\n",
    "### Assignment 7: Subsets and Supersets\n",
    "\n",
    "Create two sets: one with the first 5 positive integers and another with the first 3 positive integers. Check if the second set is a subset of the first set and if the first set is a superset of the second set. Print the results.\n",
    "\n",
    "### Assignment 8: Frozenset\n",
    "\n",
    "Create a frozenset with the first 5 positive integers. Print the frozenset.\n",
    "\n",
    "### Assignment 9: Set and List Conversion\n",
    "\n",
    "Create a set with the first 5 positive integers. Convert it to a list, append the number 6, and convert it back to a set. Print the resulting set.\n",
    "\n",
    "### Assignment 10: Set and Dictionary\n",
    "\n",
    "Create a dictionary with set keys and integer values. Print the dictionary.\n",
    "\n",
    "### Assignment 11: Iterating Over Sets\n",
    "\n",
    "Create a set and iterate over the elements, printing each element.\n",
    "\n",
    "### Assignment 12: Removing Elements from Sets\n",
    "\n",
    "Create a set and remove elements from it until it is empty. Print the set after each removal.\n",
    "\n",
    "### Assignment 13: Set Symmetric Difference Update\n",
    "\n",
    "Create two sets and update the first set with the symmetric difference of the two sets. Print the modified first set.\n",
    "\n",
    "### Assignment 14: Set Membership Testing\n",
    "\n",
    "Create a set and test if certain elements are present in the set. Print the results.\n",
    "\n",
    "### Assignment 15: Set of Tuples\n",
    "\n",
    "Create a set containing tuples, where each tuple contains two elements. Print the set."
   ]
  },
  {
   "cell_type": "code",
   "execution_count": 1,
   "metadata": {},
   "outputs": [
    {
     "name": "stdout",
     "output_type": "stream",
     "text": [
      "{1, 2, 3, 4, 5, 6, 7, 8, 9, 10}\n"
     ]
    }
   ],
   "source": [
    "## Create a set with the first 10 positive integers. Print the set.\n",
    "positive_integers = set(range(1, 11))\n",
    "print(positive_integers)    \n"
   ]
  },
  {
   "cell_type": "code",
   "execution_count": 2,
   "id": "2bb33f80",
   "metadata": {},
   "outputs": [
    {
     "name": "stdout",
     "output_type": "stream",
     "text": [
      "{2, 3, 4, 5, 6, 7, 8, 9, 10, 11}\n"
     ]
    }
   ],
   "source": [
    "## Add the number 11 to the set created in Assignment 1. Then remove the number 1 from the set. Print the modified set.\n",
    "positive_integers.add(11)\n",
    "positive_integers.remove(1) \n",
    "print(positive_integers)"
   ]
  },
  {
   "cell_type": "code",
   "execution_count": 3,
   "id": "6722b121",
   "metadata": {},
   "outputs": [
    {
     "name": "stdout",
     "output_type": "stream",
     "text": [
      "Union: {1, 2, 3, 4, 5, 6, 8, 10}\n",
      "Intersection: {2, 4}\n",
      "Difference (set1 - set2): {1, 3, 5}\n",
      "Symmetric Difference: {1, 3, 5, 6, 8, 10}\n"
     ]
    }
   ],
   "source": [
    "#Create two sets: one with the first 5 positive integers and another with the first 5 even integers. Perform and print the results of union, intersection, difference, and symmetric difference operations on these sets.\n",
    "set1 = set(range(1, 6))  # First 5 positive integers\n",
    "set2 = set(range(2, 11, 2))  # First 5 even integers        \n",
    "union_set = set1.union(set2)\n",
    "intersection_set = set1.intersection(set2)\n",
    "difference_set = set1.difference(set2)\n",
    "symmetric_difference_set = set1.symmetric_difference(set2)\n",
    "print(\"Union:\", union_set)\n",
    "print(\"Intersection:\", intersection_set)    \n",
    "print(\"Difference (set1 - set2):\", difference_set)\n",
    "print(\"Symmetric Difference:\", symmetric_difference_set)\n"
   ]
  },
  {
   "cell_type": "code",
   "execution_count": 6,
   "id": "751029af",
   "metadata": {},
   "outputs": [
    {
     "name": "stdout",
     "output_type": "stream",
     "text": [
      "Squares of the first 10 positive integers: [1, 4, 9, 16, 25, 36, 49, 64, 81, 100]\n"
     ]
    }
   ],
   "source": [
    "## Create a new set containing the squares of the first 10 positive integers using a set comprehension. Print the new set.\n",
    "squares_set = {x**2 for x in range(1, 11)}\n",
    "sorted_squares = sorted(squares_set)\n",
    "print(\"Squares of the first 10 positive integers:\", sorted_squares)"
   ]
  },
  {
   "cell_type": "code",
   "execution_count": 7,
   "id": "98143151",
   "metadata": {},
   "outputs": [
    {
     "name": "stdout",
     "output_type": "stream",
     "text": [
      "Even numbers from the modified set: [2, 4, 6, 8, 10]\n"
     ]
    }
   ],
   "source": [
    "## Create a new set containing only the even numbers from the set created in Assignment 1 using a set comprehension. Print the new set.\n",
    "even_numbers_set = {x for x in positive_integers if x % 2 == 0}\n",
    "sorted_even_numbers = sorted(even_numbers_set)\n",
    "print(\"Even numbers from the modified set:\", sorted_even_numbers)\n"
   ]
  },
  {
   "cell_type": "code",
   "execution_count": 8,
   "id": "2e1fe12f",
   "metadata": {},
   "outputs": [
    {
     "name": "stdout",
     "output_type": "stream",
     "text": [
      "Set after removing duplicates: {1, 2, 3, 4, 5}\n"
     ]
    }
   ],
   "source": [
    "## Create a set with duplicate elements and remove the duplicates using set methods. Print the modified set.\n",
    "duplicate_elements = [1, 2, 2, 3, 4, 4, 5]\n",
    "unique_set = set(duplicate_elements)\n",
    "print(\"Set after removing duplicates:\", unique_set)\n"
   ]
  },
  {
   "cell_type": "code",
   "execution_count": 9,
   "id": "93af34cf",
   "metadata": {},
   "outputs": [
    {
     "name": "stdout",
     "output_type": "stream",
     "text": [
      "Is setB a subset of setA? True\n",
      "Is setA a superset of setB? True\n"
     ]
    }
   ],
   "source": [
    "## Create two sets: one with the first 5 positive integers and another with the first 3 positive integers. Check if the second set is a subset of the first set and if the first set is a superset of the second set. Print the results.\n",
    "setA = set(range(1, 6))  # First 5 positive integers\n",
    "setB = set(range(1, 4))  # First 3 positive integers\n",
    "is_subset = setB.issubset(setA)\n",
    "is_superset = setA.issuperset(setB)\n",
    "print(\"Is setB a subset of setA?\", is_subset)\n",
    "print(\"Is setA a superset of setB?\", is_superset)\n"
   ]
  },
  {
   "cell_type": "code",
   "execution_count": 11,
   "id": "37483039",
   "metadata": {},
   "outputs": [
    {
     "name": "stdout",
     "output_type": "stream",
     "text": [
      "Frozenset of the first 5 positive integers: frozenset({1, 2, 3, 4, 5})\n"
     ]
    }
   ],
   "source": [
    "## Create a frozenset with the first 5 positive integers. Print the frozenset.\n",
    "frozenset_positive_integers = frozenset(range(1, 6)) ## First 5 positive integers\n",
    "print(\"Frozenset of the first 5 positive integers:\", frozenset_positive_integers)"
   ]
  },
  {
   "cell_type": "code",
   "execution_count": 12,
   "id": "e51f758e",
   "metadata": {},
   "outputs": [
    {
     "name": "stdout",
     "output_type": "stream",
     "text": [
      "Resulting set after adding 6: {1, 2, 3, 4, 5, 6}\n"
     ]
    }
   ],
   "source": [
    "## Create a set with the first 5 positive integers. Convert it to a list, append the number 6, and convert it back to a set. Print the resulting set.\n",
    "initial_set = set(range(1, 6))  # First 5 positive integers\n",
    "temp_list = list(initial_set)\n",
    "temp_list.append(6)\n",
    "resulting_set = set(temp_list)\n",
    "print(\"Resulting set after adding 6:\", resulting_set)\n"
   ]
  },
  {
   "cell_type": "code",
   "execution_count": 13,
   "id": "e2836cab",
   "metadata": {},
   "outputs": [
    {
     "name": "stdout",
     "output_type": "stream",
     "text": [
      "Dictionary with set keys: {frozenset({1, 2, 3}): 10, frozenset({4, 5, 6}): 20}\n"
     ]
    }
   ],
   "source": [
    "## Create a dictionary with set keys and integer values. Print the dictionary.\n",
    "set_key1 = frozenset({1, 2, 3})\n",
    "set_key2 = frozenset({4, 5, 6})\n",
    "my_dict = {set_key1: 10, set_key2: 20}\n",
    "print(\"Dictionary with set keys:\", my_dict)\n"
   ]
  },
  {
   "cell_type": "code",
   "execution_count": 14,
   "id": "89dd3760",
   "metadata": {},
   "outputs": [
    {
     "name": "stdout",
     "output_type": "stream",
     "text": [
      "Element: 50\n",
      "Element: 20\n",
      "Element: 40\n",
      "Element: 10\n",
      "Element: 30\n"
     ]
    }
   ],
   "source": [
    "## Create a set and iterate over the elements, printing each element.\n",
    "sample_set = {10, 20, 30, 40, 50}\n",
    "for element in sample_set:\n",
    "    print(\"Element:\", element)\n"
   ]
  },
  {
   "cell_type": "code",
   "execution_count": 15,
   "id": "e5d117a8",
   "metadata": {},
   "outputs": [
    {
     "name": "stdout",
     "output_type": "stream",
     "text": [
      "Removed 1, Remaining set: {2, 3, 4, 5}\n",
      "Removed 2, Remaining set: {3, 4, 5}\n",
      "Removed 3, Remaining set: {4, 5}\n",
      "Removed 4, Remaining set: {5}\n",
      "Removed 5, Remaining set: set()\n"
     ]
    }
   ],
   "source": [
    "## Create a set and remove elements from it until it is empty. Print the set after each removal.\n",
    "removable_set = {1, 2, 3, 4, 5}\n",
    "while removable_set:\n",
    "    removed_element = removable_set.pop()\n",
    "    print(f\"Removed {removed_element}, Remaining set: {removable_set}\")\n",
    "    "
   ]
  },
  {
   "cell_type": "code",
   "execution_count": 16,
   "id": "04626c74",
   "metadata": {},
   "outputs": [
    {
     "name": "stdout",
     "output_type": "stream",
     "text": [
      "SetX after symmetric difference update with SetY: {1, 2, 5, 6}\n"
     ]
    }
   ],
   "source": [
    "## Create two sets and update the first set with the symmetric difference of the two sets. Print the modified first set.\n",
    "setX = {1, 2, 3, 4}\n",
    "setY = {3, 4, 5, 6}\n",
    "setX.symmetric_difference_update(setY)\n",
    "print(\"SetX after symmetric difference update with SetY:\", setX)"
   ]
  },
  {
   "cell_type": "code",
   "execution_count": 17,
   "id": "881a5de1",
   "metadata": {},
   "outputs": [
    {
     "name": "stdout",
     "output_type": "stream",
     "text": [
      "Is 20 present in the set? True\n",
      "Is 60 present in the set? False\n",
      "Is 30 present in the set? True\n",
      "Is 70 present in the set? False\n"
     ]
    }
   ],
   "source": [
    "## Create a set and test if certain elements are present in the set. Print the results.\n",
    "test_set = {10, 20, 30, 40, 50}\n",
    "elements_to_test = [20, 60, 30, 70] \n",
    "for element in elements_to_test:\n",
    "    is_present = element in test_set\n",
    "    print(f\"Is {element} present in the set? {is_present}\")\n",
    "    "
   ]
  },
  {
   "cell_type": "code",
   "execution_count": 18,
   "id": "5d52601f",
   "metadata": {},
   "outputs": [
    {
     "name": "stdout",
     "output_type": "stream",
     "text": [
      "Set containing tuples: {(2, 'b'), (1, 'a'), (3, 'c')}\n"
     ]
    }
   ],
   "source": [
    "## Create a set containing tuples, where each tuple contains two elements. Print the set.\n",
    "tuple_set={(1, 'a'), (2, 'b'), (3, 'c'  )}\n",
    "print(\"Set containing tuples:\", tuple_set)\n"
   ]
  }
 ],
 "metadata": {
  "kernelspec": {
   "display_name": "venv",
   "language": "python",
   "name": "python3"
  },
  "language_info": {
   "codemirror_mode": {
    "name": "ipython",
    "version": 3
   },
   "file_extension": ".py",
   "mimetype": "text/x-python",
   "name": "python",
   "nbconvert_exporter": "python",
   "pygments_lexer": "ipython3",
   "version": "3.10.0"
  }
 },
 "nbformat": 4,
 "nbformat_minor": 5
}
