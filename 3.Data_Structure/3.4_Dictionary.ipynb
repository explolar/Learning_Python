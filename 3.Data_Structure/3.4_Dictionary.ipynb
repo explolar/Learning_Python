{
 "cells": [
  {
   "cell_type": "markdown",
   "id": "c0f5d407",
   "metadata": {},
   "source": [
    "#### Dictionaries\n",
    "Distionaries are unordered collection of items store in key-value pairs.Key must be unique and immutable."
   ]
  },
  {
   "cell_type": "code",
   "execution_count": 1,
   "id": "675fe978",
   "metadata": {},
   "outputs": [
    {
     "name": "stdout",
     "output_type": "stream",
     "text": [
      "<class 'dict'>\n"
     ]
    }
   ],
   "source": [
    "## Creating Dictionaries\n",
    "empty_dict = {}\n",
    "print(type(empty_dict))  "
   ]
  },
  {
   "cell_type": "code",
   "execution_count": 2,
   "id": "25238803",
   "metadata": {},
   "outputs": [
    {
     "name": "stdout",
     "output_type": "stream",
     "text": [
      "<class 'dict'>\n"
     ]
    }
   ],
   "source": [
    "empty_dict=dict()\n",
    "print(type(empty_dict))"
   ]
  },
  {
   "cell_type": "code",
   "execution_count": 5,
   "id": "d8504d5e",
   "metadata": {},
   "outputs": [
    {
     "name": "stdout",
     "output_type": "stream",
     "text": [
      "{'name': 'Ankit', 'age': 21, 'courses': ['Agriculture', 'Data Science']}\n",
      "<class 'dict'>\n"
     ]
    }
   ],
   "source": [
    "student={'name':'Ankit','age':21,'courses':['Agriculture','Data Science']}\n",
    "print(student)\n",
    "print(type(student))"
   ]
  },
  {
   "cell_type": "code",
   "execution_count": 7,
   "id": "9415c640",
   "metadata": {},
   "outputs": [
    {
     "name": "stdout",
     "output_type": "stream",
     "text": [
      "{'name': 'Ankit', 'age': 21, 'courses': ['Agriculture', 'Data Science']}\n"
     ]
    }
   ],
   "source": [
    "student={'name':'Ankit','age':21,'courses':['Agriculture','Data Science']}\n",
    "print(student)\n"
   ]
  },
  {
   "cell_type": "code",
   "execution_count": 11,
   "id": "7dc5f4b7",
   "metadata": {},
   "outputs": [
    {
     "name": "stdout",
     "output_type": "stream",
     "text": [
      "21\n",
      "Ankit\n",
      "21\n",
      "None\n",
      "Fail\n"
     ]
    }
   ],
   "source": [
    "## Accessing Dictionary Element\n",
    "student={'name':'Ankit','age':21,'courses':['Agriculture','Data Science']}\n",
    "print(student['age'])\n",
    "print(student['name'])\n",
    "\n",
    "## Accessing using get() method\n",
    "print(student.get('age'))\n",
    "print(student.get('grade'))\n",
    "print(student.get('grade','Fail'))"
   ]
  },
  {
   "cell_type": "code",
   "execution_count": 12,
   "id": "dcc95adc",
   "metadata": {},
   "outputs": [
    {
     "name": "stdout",
     "output_type": "stream",
     "text": [
      "{'name': 'Ankit', 'age': 21, 'courses': ['Agriculture', 'Data Science']}\n"
     ]
    }
   ],
   "source": [
    "## Modifying Dictionaries Element\n",
    "## Dictionary are mutable,so you can update,add or delete element.\n",
    "print(student)"
   ]
  },
  {
   "cell_type": "code",
   "execution_count": 14,
   "id": "e0fce5eb",
   "metadata": {},
   "outputs": [
    {
     "name": "stdout",
     "output_type": "stream",
     "text": [
      "{'name': 'Ankit', 'age': 33, 'courses': ['Agriculture', 'Data Science'], 'grade': 'A+'}\n",
      "{'name': 'Ankit', 'age': 33, 'courses': ['Agriculture', 'Data Science'], 'grade': 'A+'}\n"
     ]
    }
   ],
   "source": [
    "student[\"age\"]=33 ##Updated Value\n",
    "print(student)\n",
    "student[\"grade\"]=\"A+\" # Added new key and value\n",
    "print(student)"
   ]
  },
  {
   "cell_type": "code",
   "execution_count": 15,
   "id": "53a3d08c",
   "metadata": {},
   "outputs": [
    {
     "name": "stdout",
     "output_type": "stream",
     "text": [
      "{'name': 'Ankit', 'age': 33, 'courses': ['Agriculture', 'Data Science']}\n"
     ]
    }
   ],
   "source": [
    "## Delete key\n",
    "del student['grade'] #Delete key value Pair\n",
    "print(student)\n"
   ]
  }
 ],
 "metadata": {
  "kernelspec": {
   "display_name": "venv",
   "language": "python",
   "name": "python3"
  },
  "language_info": {
   "codemirror_mode": {
    "name": "ipython",
    "version": 3
   },
   "file_extension": ".py",
   "mimetype": "text/x-python",
   "name": "python",
   "nbconvert_exporter": "python",
   "pygments_lexer": "ipython3",
   "version": "3.10.0"
  }
 },
 "nbformat": 4,
 "nbformat_minor": 5
}
