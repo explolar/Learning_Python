{
 "cells": [
  {
   "cell_type": "markdown",
   "id": "c94c2aec",
   "metadata": {},
   "source": [
    "#### Lists \n",
    "\n"
   ]
  },
  {
   "cell_type": "code",
   "execution_count": 2,
   "id": "944c24c2",
   "metadata": {},
   "outputs": [
    {
     "data": {
      "text/plain": [
       "list"
      ]
     },
     "execution_count": 2,
     "metadata": {},
     "output_type": "execute_result"
    }
   ],
   "source": [
    "## List \n",
    "## They are mutable, ordered sequences of items.\n",
    "##They can contain items of different data types, including other lists.\n",
    "\n",
    "list=[]\n",
    "type(list)  \n"
   ]
  },
  {
   "cell_type": "code",
   "execution_count": 5,
   "id": "dcf87a89",
   "metadata": {},
   "outputs": [
    {
     "name": "stdout",
     "output_type": "stream",
     "text": [
      "['Ankit', 'Aman', 'Ravi', 'Saurabh', 1, 1.5, True]\n",
      "<class 'list'>\n"
     ]
    }
   ],
   "source": [
    "names=[\"Ankit\",\"Aman\",\"Ravi\",\"Saurabh\",1,1.5,True]\n",
    "print(names)\n",
    "print(type(names))"
   ]
  },
  {
   "cell_type": "code",
   "execution_count": 6,
   "id": "9a2203e9",
   "metadata": {},
   "outputs": [],
   "source": [
    "## Accessing List Items\n",
    "fruits = [\"apple\", \"banana\", \"cherry\",\"orange\", \"kiwi\", \"melon\", \"mango\"]\n"
   ]
  },
  {
   "cell_type": "code",
   "execution_count": 8,
   "id": "ae47ff71",
   "metadata": {},
   "outputs": [
    {
     "name": "stdout",
     "output_type": "stream",
     "text": [
      "apple\n",
      "orange\n",
      "mango\n",
      "kiwi\n"
     ]
    }
   ],
   "source": [
    "## Indexing\n",
    "print(fruits[0])# First item\n",
    "print(fruits[3]) # Fourth item        \n",
    "print(fruits[-1]) # Last item\n",
    "print(fruits[-3]) # Third last item"
   ]
  },
  {
   "cell_type": "code",
   "execution_count": 10,
   "id": "5131a63e",
   "metadata": {},
   "outputs": [
    {
     "name": "stdout",
     "output_type": "stream",
     "text": [
      "['cherry', 'orange', 'kiwi']\n",
      "['apple', 'banana', 'cherry', 'orange']\n",
      "['orange', 'kiwi', 'melon', 'mango']\n",
      "['orange', 'kiwi', 'melon']\n",
      "[]\n"
     ]
    }
   ],
   "source": [
    "print(fruits[2:5]) # items from index 2 to 4\n",
    "print(fruits[:4])  # items from beginning to index 3    \n",
    "print(fruits[3:])  # items from index 3 to end\n",
    "print(fruits[-4:-1]) # items from index -4 to -2\n",
    "print(fruits[-1:-3]) # Empty list as -1 is before -3"
   ]
  },
  {
   "cell_type": "code",
   "execution_count": 11,
   "id": "4218ef4d",
   "metadata": {},
   "outputs": [
    {
     "name": "stdout",
     "output_type": "stream",
     "text": [
      "['apple', 'watermelon', 'cherry', 'orange', 'kiwi', 'melon', 'mango']\n"
     ]
    }
   ],
   "source": [
    "## Modifying Lists\n",
    "fruits[1] = \"watermelon\"  # Changing the second item\n",
    "print(fruits)"
   ]
  },
  {
   "cell_type": "code",
   "execution_count": 30,
   "id": "2d92491d",
   "metadata": {},
   "outputs": [],
   "source": [
    "fruits[1:]=\"watermelon\" # Replacing multiple items starting from index 1"
   ]
  },
  {
   "cell_type": "code",
   "execution_count": 13,
   "id": "86e5d06a",
   "metadata": {},
   "outputs": [
    {
     "name": "stdout",
     "output_type": "stream",
     "text": [
      "['apple', 'w', 'a', 't', 'e', 'r', 'm', 'e', 'l', 'o', 'n']\n"
     ]
    }
   ],
   "source": [
    "print(fruits)"
   ]
  },
  {
   "cell_type": "code",
   "execution_count": 31,
   "id": "250a5942",
   "metadata": {},
   "outputs": [
    {
     "name": "stdout",
     "output_type": "stream",
     "text": [
      "['apple', 'banana', 'cherry', 'orange', 'kiwi', 'melon', 'mango', 'melon']\n"
     ]
    }
   ],
   "source": [
    "## List Methods\n",
    "fruits = [\"apple\", \"banana\", \"cherry\",\"orange\", \"kiwi\", \"melon\", \"mango\"]\n",
    "fruits.append(\"melon\") #Adding an item to the end of the list\n",
    "print(fruits)"
   ]
  },
  {
   "cell_type": "code",
   "execution_count": 32,
   "id": "d376f983",
   "metadata": {},
   "outputs": [
    {
     "name": "stdout",
     "output_type": "stream",
     "text": [
      "['apple', 'blueberry', 'banana', 'cherry', 'orange', 'kiwi', 'melon', 'mango', 'melon']\n"
     ]
    }
   ],
   "source": [
    "fruits.insert(1,\"blueberry\") #Inserting blueberry at index 1\n",
    "print(fruits)"
   ]
  },
  {
   "cell_type": "code",
   "execution_count": 33,
   "id": "9b3aba16",
   "metadata": {},
   "outputs": [
    {
     "name": "stdout",
     "output_type": "stream",
     "text": [
      "['apple', 'blueberry', 'banana', 'cherry', 'orange', 'kiwi', 'mango', 'melon']\n"
     ]
    }
   ],
   "source": [
    "fruits.remove(\"melon\") #Removing first occurrence of melon\n",
    "print(fruits)"
   ]
  },
  {
   "cell_type": "code",
   "execution_count": 34,
   "id": "ce895daf",
   "metadata": {},
   "outputs": [
    {
     "name": "stdout",
     "output_type": "stream",
     "text": [
      "melon\n",
      "['apple', 'blueberry', 'banana', 'cherry', 'orange', 'kiwi', 'mango']\n"
     ]
    }
   ],
   "source": [
    "## Remove and Return Last element\n",
    "popped_fruits=fruits.pop() #Removes and returns the last item if index is not specified\n",
    "print(popped_fruits)\n",
    "print(fruits)\n"
   ]
  },
  {
   "cell_type": "code",
   "execution_count": 35,
   "id": "8685f2ac",
   "metadata": {},
   "outputs": [
    {
     "name": "stdout",
     "output_type": "stream",
     "text": [
      "3\n"
     ]
    }
   ],
   "source": [
    "index=fruits.index(\"cherry\") #Getting index of an item\n",
    "print(index)"
   ]
  },
  {
   "cell_type": "code",
   "execution_count": 36,
   "id": "ddadb4bc",
   "metadata": {},
   "outputs": [
    {
     "data": {
      "text/plain": [
       "1"
      ]
     },
     "execution_count": 36,
     "metadata": {},
     "output_type": "execute_result"
    }
   ],
   "source": [
    "fruits.insert(2,\"grapes\") #Inserting grapes at index 2\n",
    "fruits.count(\"apple\") #Counting occurrences of apple in the list\n"
   ]
  },
  {
   "cell_type": "code",
   "execution_count": 37,
   "id": "d18d4247",
   "metadata": {},
   "outputs": [
    {
     "name": "stdout",
     "output_type": "stream",
     "text": [
      "['apple', 'banana', 'blueberry', 'cherry', 'grapes', 'kiwi', 'mango', 'orange']\n"
     ]
    }
   ],
   "source": [
    "fruits.sort() #Sort list in ascending order\n",
    "print(fruits)"
   ]
  },
  {
   "cell_type": "code",
   "execution_count": 38,
   "id": "c641600b",
   "metadata": {},
   "outputs": [
    {
     "name": "stdout",
     "output_type": "stream",
     "text": [
      "['orange', 'mango', 'kiwi', 'grapes', 'cherry', 'blueberry', 'banana', 'apple']\n"
     ]
    }
   ],
   "source": [
    "fruits.reverse() #Reverse the order of the list\n",
    "print(fruits)"
   ]
  },
  {
   "cell_type": "code",
   "execution_count": 39,
   "id": "f09a96cb",
   "metadata": {},
   "outputs": [
    {
     "name": "stdout",
     "output_type": "stream",
     "text": [
      "[]\n"
     ]
    }
   ],
   "source": [
    "fruits.clear() #Remove all items from the list\n",
    "print(fruits)"
   ]
  },
  {
   "cell_type": "code",
   "execution_count": 42,
   "id": "8194224b",
   "metadata": {},
   "outputs": [
    {
     "name": "stdout",
     "output_type": "stream",
     "text": [
      "[2, 3, 4, 5, 6]\n",
      "[0, 1, 2, 3, 4]\n",
      "[5, 6, 7, 8, 9, 10]\n",
      "[6, 7, 8, 9]\n",
      "[0, 2, 4, 6, 8, 10]\n",
      "[10, 9, 8, 7, 6, 5, 4, 3, 2, 1, 0]\n"
     ]
    }
   ],
   "source": [
    "## Slicing Lists\n",
    "numbers = [0, 1, 2, 3, 4, 5, 6, 7, 8, 9,10]\n",
    "print(numbers[2:7]) # Slicing from index 2 to 6\n",
    "print(numbers[:5])  # Slicing from start to index 4 \n",
    "print(numbers[5:])  # Slicing from index 5 to end\n",
    "print(numbers[-5:-1]) # Slicing from index -5 to -2\n",
    "print(numbers[::2]) # Slicing with step 2\n",
    "print(numbers[::-1]) # Reversing the list using slicing\n"
   ]
  },
  {
   "cell_type": "code",
   "execution_count": 44,
   "id": "e6ae899d",
   "metadata": {},
   "outputs": [
    {
     "name": "stdout",
     "output_type": "stream",
     "text": [
      "[0, 1, 2, 3, 4, 5, 6, 7, 8, 9, 10]\n",
      "[10, 8, 6, 4, 2, 0]\n",
      "[7, 6, 5, 4, 3]\n",
      "[9, 8, 7, 6, 5]\n"
     ]
    }
   ],
   "source": [
    "print(numbers[::])\n",
    "print(numbers[::-2]) # Reversing the list with step 2\n",
    "print(numbers[7:2:-1]) # Slicing from index 7 to 3 in reverse order\n",
    "print(numbers[-2:-7:-1]) # Slicing from index -2 to -6 in reverse order"
   ]
  },
  {
   "cell_type": "code",
   "execution_count": 45,
   "id": "c0c234fc",
   "metadata": {},
   "outputs": [
    {
     "name": "stdout",
     "output_type": "stream",
     "text": [
      "0\n",
      "1\n",
      "2\n",
      "3\n",
      "4\n",
      "5\n",
      "6\n",
      "7\n",
      "8\n",
      "9\n",
      "10\n"
     ]
    }
   ],
   "source": [
    "## Iterating through a list\n",
    "for number in numbers:\n",
    "    print(number)"
   ]
  },
  {
   "cell_type": "code",
   "execution_count": 47,
   "id": "37687a86",
   "metadata": {},
   "outputs": [
    {
     "name": "stdout",
     "output_type": "stream",
     "text": [
      "0 0\n",
      "1 1\n",
      "2 2\n",
      "3 3\n",
      "4 4\n",
      "5 5\n",
      "6 6\n",
      "7 7\n",
      "8 8\n",
      "9 9\n",
      "10 10\n"
     ]
    }
   ],
   "source": [
    "## Iterating through a list\n",
    "for index,number in enumerate(numbers):  #Getting index and value using enumerate\n",
    "    print(index,number)"
   ]
  },
  {
   "cell_type": "code",
   "execution_count": 48,
   "id": "40877b61",
   "metadata": {},
   "outputs": [
    {
     "name": "stdout",
     "output_type": "stream",
     "text": [
      "[0, 1, 4, 9, 16, 25, 36, 49, 64, 81]\n"
     ]
    }
   ],
   "source": [
    "## List Comprehensions\n",
    "list=[]\n",
    "for x in range(10):\n",
    "    list.append(x**2)\n",
    "print(list)"
   ]
  },
  {
   "cell_type": "code",
   "execution_count": 50,
   "id": "4ac978b0",
   "metadata": {},
   "outputs": [
    {
     "data": {
      "text/plain": [
       "[0, 1, 4, 9, 16, 25, 36, 49, 64, 81]"
      ]
     },
     "execution_count": 50,
     "metadata": {},
     "output_type": "execute_result"
    }
   ],
   "source": [
    "[x**2 for x in range(10)]  #List comprehension to create a list of squares"
   ]
  },
  {
   "cell_type": "markdown",
   "id": "2192d506",
   "metadata": {},
   "source": [
    "#### List Comprehension\n",
    "\n",
    "Basic Syntax [expression for item in iterable]\n",
    "\n",
    "\n",
    "with Conditional logic [expression for item in iterable if condition]\n",
    "\n",
    "Nested List Operation [expression for item1 in iterable 1 for item2 in iterable2]"
   ]
  },
  {
   "cell_type": "code",
   "execution_count": 51,
   "id": "a6f16735",
   "metadata": {},
   "outputs": [
    {
     "name": "stdout",
     "output_type": "stream",
     "text": [
      "[0, 1, 4, 9, 16, 25, 36, 49, 64, 81]\n"
     ]
    }
   ],
   "source": [
    "squares = [x**2 for x in range(10)]\n",
    "print(squares)"
   ]
  },
  {
   "cell_type": "code",
   "execution_count": 53,
   "id": "6ef8072f",
   "metadata": {},
   "outputs": [
    {
     "name": "stdout",
     "output_type": "stream",
     "text": [
      "[0, 2, 4, 6, 8]\n"
     ]
    }
   ],
   "source": [
    "## List Comprehensions with Conditional Logic\n",
    "list=[]\n",
    "for i in range(10):\n",
    "    if i%2==0:\n",
    "        list.append(i)\n",
    "print(list)\n"
   ]
  },
  {
   "cell_type": "code",
   "execution_count": 55,
   "id": "e329fd13",
   "metadata": {},
   "outputs": [
    {
     "data": {
      "text/plain": [
       "[0, 2, 4, 6, 8]"
      ]
     },
     "execution_count": 55,
     "metadata": {},
     "output_type": "execute_result"
    }
   ],
   "source": [
    "[num for num in range(10) if num%2==0]  #List comprehension with conditional logic to get even numbers"
   ]
  },
  {
   "cell_type": "code",
   "execution_count": 56,
   "id": "25a4d986",
   "metadata": {},
   "outputs": [
    {
     "name": "stdout",
     "output_type": "stream",
     "text": [
      "[(1, 'a'), (1, 'b'), (1, 'c'), (2, 'a'), (2, 'b'), (2, 'c'), (3, 'a'), (3, 'b'), (3, 'c')]\n"
     ]
    }
   ],
   "source": [
    "## Nested List Comprehension\n",
    "lst1=[1,2,3]\n",
    "lst2=['a','b','c']\n",
    "pair=[(x,y) for x in lst1 for y in lst2]\n",
    "print(pair)"
   ]
  },
  {
   "cell_type": "code",
   "execution_count": 57,
   "id": "09beb2d7",
   "metadata": {},
   "outputs": [
    {
     "name": "stdout",
     "output_type": "stream",
     "text": [
      "[5, 5, 6, 4]\n"
     ]
    }
   ],
   "source": [
    "## List Comprehensions with Functions calls\n",
    "word_list = [\"hello\", \"world\", \"python\", \"list\"]\n",
    "lengths = [len(word) for word in word_list]  #List comprehension to get\n",
    "print(lengths)"
   ]
  }
 ],
 "metadata": {
  "kernelspec": {
   "display_name": "venv",
   "language": "python",
   "name": "python3"
  },
  "language_info": {
   "codemirror_mode": {
    "name": "ipython",
    "version": 3
   },
   "file_extension": ".py",
   "mimetype": "text/x-python",
   "name": "python",
   "nbconvert_exporter": "python",
   "pygments_lexer": "ipython3",
   "version": "3.10.0"
  }
 },
 "nbformat": 4,
 "nbformat_minor": 5
}
