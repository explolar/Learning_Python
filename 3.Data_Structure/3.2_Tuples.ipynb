{
 "cells": [
  {
   "cell_type": "code",
   "execution_count": 2,
   "id": "62e061fd",
   "metadata": {},
   "outputs": [
    {
     "name": "stdout",
     "output_type": "stream",
     "text": [
      "Empty Tuple: ()\n",
      "<class 'tuple'>\n"
     ]
    }
   ],
   "source": [
    "# Tuples are ordered, immutable collections of items in Python.\n",
    "# They are defined by enclosing items in parentheses ().\n",
    "#Simillar to lists, but cannot be modified after creation.\n",
    " \n",
    "# Example of creating a tuple\n",
    "empty_tuple=()\n",
    "print(\"Empty Tuple:\", empty_tuple)\n",
    "print(type(empty_tuple))"
   ]
  },
  {
   "cell_type": "code",
   "execution_count": 3,
   "id": "d806f857",
   "metadata": {},
   "outputs": [
    {
     "name": "stdout",
     "output_type": "stream",
     "text": [
      "<class 'tuple'>\n",
      "<class 'list'>\n"
     ]
    }
   ],
   "source": [
    "tpl=tuple()  # Using tuple() constructor\n",
    "lst=list()  # Using list() constructor\n",
    "print(type(tpl))\n",
    "print(type(lst))"
   ]
  },
  {
   "cell_type": "code",
   "execution_count": 4,
   "id": "eb220db2",
   "metadata": {},
   "outputs": [
    {
     "name": "stdout",
     "output_type": "stream",
     "text": [
      "Tuple from list: (1, 2, 3, 4, 5)\n"
     ]
    }
   ],
   "source": [
    "numbers=tuple([1,2,3,4,5])  # Creating a tuple from a list\n",
    "print(\"Tuple from list:\", numbers)"
   ]
  },
  {
   "cell_type": "code",
   "execution_count": 5,
   "id": "dcc2b068",
   "metadata": {},
   "outputs": [
    {
     "name": "stdout",
     "output_type": "stream",
     "text": [
      "List from tuple: [1, 2, 3, 4, 5]\n"
     ]
    }
   ],
   "source": [
    "list((1,2,3,4,5))  # Creating a list from a tuple\n",
    "print(\"List from tuple:\", list((1,2,3,4,5)))"
   ]
  },
  {
   "cell_type": "code",
   "execution_count": 6,
   "id": "75141f4b",
   "metadata": {},
   "outputs": [
    {
     "name": "stdout",
     "output_type": "stream",
     "text": [
      "Mixed Tuple: (1, 'Hello', 3.14, True)\n"
     ]
    }
   ],
   "source": [
    "mixed_tuple = (1, \"Hello\", 3.14, True)\n",
    "print(\"Mixed Tuple:\", mixed_tuple)"
   ]
  },
  {
   "cell_type": "code",
   "execution_count": 11,
   "id": "922d73b5",
   "metadata": {},
   "outputs": [
    {
     "name": "stdout",
     "output_type": "stream",
     "text": [
      "1\n",
      "5\n",
      "('Hello', 3.14)\n"
     ]
    }
   ],
   "source": [
    "## Accessing Tuple Elements\n",
    "print(numbers[0])\n",
    "print(numbers[-1])\n",
    "print(mixed_tuple[1:3])"
   ]
  },
  {
   "cell_type": "code",
   "execution_count": 12,
   "id": "37845c06",
   "metadata": {},
   "outputs": [
    {
     "name": "stdout",
     "output_type": "stream",
     "text": [
      "Concatenated Tuple: (1, 2, 3, 4, 5, 1, 'Hello', 3.14, True)\n"
     ]
    }
   ],
   "source": [
    "## Tuples Operations\n",
    "concat_tuples=numbers+mixed_tuple  # Concatenation\n",
    "print(\"Concatenated Tuple:\", concat_tuples)"
   ]
  },
  {
   "cell_type": "code",
   "execution_count": 13,
   "id": "f9f2b75c",
   "metadata": {},
   "outputs": [
    {
     "name": "stdout",
     "output_type": "stream",
     "text": [
      "Repetition of Mixed Tuple: (1, 'Hello', 3.14, True, 1, 'Hello', 3.14, True, 1, 'Hello', 3.14, True)\n"
     ]
    }
   ],
   "source": [
    "mixed_tuple*3  # Repetition\n",
    "print(\"Repetition of Mixed Tuple:\", mixed_tuple*3)"
   ]
  },
  {
   "cell_type": "code",
   "execution_count": 15,
   "id": "0ae04a36",
   "metadata": {},
   "outputs": [
    {
     "name": "stdout",
     "output_type": "stream",
     "text": [
      "Repetition of Numbers Tuple: (1, 2, 3, 4, 5, 1, 2, 3, 4, 5, 1, 2, 3, 4, 5)\n"
     ]
    }
   ],
   "source": [
    "n=numbers*3  # Repetition\n",
    "print(\"Repetition of Numbers Tuple:\", n)"
   ]
  },
  {
   "cell_type": "code",
   "execution_count": 16,
   "id": "03b8c0bc",
   "metadata": {},
   "outputs": [
    {
     "name": "stdout",
     "output_type": "stream",
     "text": [
      "Original List: [1, 2, 3]\n",
      "Modified List: [10, 2, 3]\n"
     ]
    }
   ],
   "source": [
    "## Immutable Nature of Tuples\n",
    "## Tuples are immutable, meaning their elements cannot be changed after creation.\n",
    "lst=[1,2,3]\n",
    "print(\"Original List:\", lst)\n",
    "lst[0]=10  # Modifying the list\n",
    "print(\"Modified List:\", lst)"
   ]
  },
  {
   "cell_type": "code",
   "execution_count": 19,
   "id": "4a02e087",
   "metadata": {},
   "outputs": [
    {
     "name": "stdout",
     "output_type": "stream",
     "text": [
      "Original Tuple: (1, 2, 3)\n"
     ]
    }
   ],
   "source": [
    "## For Tuples, attempting to modify an element will raise an error.\n",
    "lst_tpl=(1,2,3)\n",
    "print(\"Original Tuple:\", lst_tpl)\n",
    "# lst_tpl[0]=10  # This will raise a TypeError\n",
    "# print(\"Modified Tuple:\", lst_tpl)\n"
   ]
  },
  {
   "cell_type": "code",
   "execution_count": 20,
   "id": "91863715",
   "metadata": {},
   "outputs": [
    {
     "data": {
      "text/plain": [
       "(1, 2, 3, 4, 5)"
      ]
     },
     "execution_count": 20,
     "metadata": {},
     "output_type": "execute_result"
    }
   ],
   "source": [
    "## Tuples Methods\n",
    "numbers"
   ]
  },
  {
   "cell_type": "code",
   "execution_count": 23,
   "id": "62e9099f",
   "metadata": {},
   "outputs": [
    {
     "name": "stdout",
     "output_type": "stream",
     "text": [
      "1\n",
      "2\n",
      "5\n",
      "1\n",
      "5\n",
      "15\n",
      "[1, 2, 3, 4, 5]\n",
      "(5, 4, 3, 2, 1)\n"
     ]
    }
   ],
   "source": [
    "print(numbers.count(1))  # Count occurrences of 1\n",
    "print(numbers.index(3))  # Find index of first occurrence of 3\n",
    "print(len(numbers))  # Length of the tuple\n",
    "print(min(numbers))  # Minimum value\n",
    "print(max(numbers))  # Maximum value\n",
    "print(sum(numbers))  # Sum of elements\n",
    "print(sorted(numbers))  # Sorted list of tuple elements\n",
    "print(tuple(reversed(numbers)))  # Reversed tuple\n"
   ]
  },
  {
   "cell_type": "code",
   "execution_count": 25,
   "id": "6a1997b3",
   "metadata": {},
   "outputs": [
    {
     "name": "stdout",
     "output_type": "stream",
     "text": [
      "Packed Tuple: (1, 'Hello', 3.14)\n",
      "Unpacked Values: 1 Hello 3.14\n",
      "Nested Tuple: (1, (2, 3), (4, (5, 6)))\n"
     ]
    }
   ],
   "source": [
    "## Packing and Unpacking Tuples\n",
    "packed_tuple = 1, \"Hello\", 3.14  # Packing\n",
    "print(\"Packed Tuple:\", packed_tuple)\n",
    "a, b, c = packed_tuple  # Unpacking\n",
    "print(\"Unpacked Values:\", a, b, c)\n",
    "## Nested Tuples\n",
    "nested_tuple = (1, (2, 3), (4, (5, 6)))\n",
    "print(\"Nested Tuple:\", nested_tuple)\n"
   ]
  },
  {
   "cell_type": "code",
   "execution_count": null,
   "id": "020e09c3",
   "metadata": {},
   "outputs": [
    {
     "name": "stdout",
     "output_type": "stream",
     "text": [
      "First: 1\n",
      "Middle: [2, 3, 4]\n",
      "Last: 5\n"
     ]
    }
   ],
   "source": [
    "## Unpacking with *\n",
    "num_tuple = (1, 2, 3, 4, 5)\n",
    "a, *b, c = num_tuple # Unpacking with *\n",
    "print(\"First:\", a)\n",
    "print(\"Middle:\", b)\n",
    "print(\"Last:\", c)"
   ]
  },
  {
   "cell_type": "code",
   "execution_count": 30,
   "id": "45e39f3b",
   "metadata": {},
   "outputs": [
    {
     "name": "stdout",
     "output_type": "stream",
     "text": [
      "3\n",
      "[1, 2]\n",
      "hi\n"
     ]
    }
   ],
   "source": [
    "## Example for nexted tuple\n",
    "## Nested List\n",
    "lst=[[1,2,3],[4,5,6],[7,8,9],[\"hi\",\"hello\",4.5]]\n",
    "print(lst[0][2]) # Accessing element 3 from first sub-list\n",
    "print(lst[0][:2]) # Slicing first two elements from first sub-list\n",
    "print(lst[3][0]) # Accessing element \"hi\" from fourth sub-list"
   ]
  },
  {
   "cell_type": "code",
   "execution_count": 31,
   "id": "9837b76b",
   "metadata": {},
   "outputs": [
    {
     "name": "stdout",
     "output_type": "stream",
     "text": [
      "Nested Tuple: (1, (2, 3), (4, (5, 6)))\n",
      "(2, 3)\n",
      "2\n",
      "5\n"
     ]
    }
   ],
   "source": [
    "nested_tuple = (1, (2, 3), (4, (5, 6)))\n",
    "print(\"Nested Tuple:\", nested_tuple)\n",
    "print(nested_tuple[1])  # Accessing (2, 3)\n",
    "print(nested_tuple[1][0])  # Accessing 2\n",
    "print(nested_tuple[2][1][0])  # Accessing 5"
   ]
  },
  {
   "cell_type": "code",
   "execution_count": 37,
   "id": "01ea1a3f",
   "metadata": {},
   "outputs": [
    {
     "name": "stdout",
     "output_type": "stream",
     "text": [
      "Iterating through each item:\n",
      "a\n",
      "b\n",
      "c\n",
      "1\n",
      "2\n",
      "3\n",
      "apple\n",
      "orange\n"
     ]
    }
   ],
   "source": [
    "# 1. Define a nested tuple\n",
    "nested_tuple = (('a', 'b', 'c'), (1, 2, 3), ('apple', 'orange'))\n",
    "\n",
    "# 2. Your code to iterate through it\n",
    "print(\"Iterating through each item:\")\n",
    "for sub_tuple in nested_tuple:\n",
    "    for item in sub_tuple:\n",
    "        print(item)"
   ]
  }
 ],
 "metadata": {
  "kernelspec": {
   "display_name": "venv",
   "language": "python",
   "name": "python3"
  },
  "language_info": {
   "codemirror_mode": {
    "name": "ipython",
    "version": 3
   },
   "file_extension": ".py",
   "mimetype": "text/x-python",
   "name": "python",
   "nbconvert_exporter": "python",
   "pygments_lexer": "ipython3",
   "version": "3.10.0"
  }
 },
 "nbformat": 4,
 "nbformat_minor": 5
}
