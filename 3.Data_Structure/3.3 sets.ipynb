{
 "cells": [
  {
   "cell_type": "markdown",
   "id": "b2d2b9b5",
   "metadata": {},
   "source": [
    "#### SETS\n",
    "sets are the built-in data type in python used to store collection of build items,They are unordered and not allow duplicate enteries. They perform mathematical set operations like Union,Intersection,Difference and Symettric Difference."
   ]
  },
  {
   "cell_type": "code",
   "execution_count": 2,
   "id": "b283934b",
   "metadata": {},
   "outputs": [
    {
     "name": "stdout",
     "output_type": "stream",
     "text": [
      "Original Set: {1, 2, 3, 4, 5}\n",
      "Type of my_set: <class 'set'>\n"
     ]
    }
   ],
   "source": [
    "## Create a Set\n",
    "my_set = {1, 2, 3, 4, 5}\n",
    "print(\"Original Set:\", my_set)\n",
    "print(\"Type of my_set:\", type(my_set))"
   ]
  },
  {
   "cell_type": "code",
   "execution_count": 3,
   "id": "22b75f91",
   "metadata": {},
   "outputs": [
    {
     "name": "stdout",
     "output_type": "stream",
     "text": [
      "<class 'set'>\n"
     ]
    }
   ],
   "source": [
    "my_empty_set = set()\n",
    "print(type(my_empty_set))"
   ]
  },
  {
   "cell_type": "code",
   "execution_count": 5,
   "id": "e24e60f1",
   "metadata": {},
   "outputs": [
    {
     "name": "stdout",
     "output_type": "stream",
     "text": [
      "<class 'set'>\n",
      "Set with elements: {1, 2, 3, 4, 5}\n"
     ]
    }
   ],
   "source": [
    "my_empty_set = set([1, 2, 3,4,5])\n",
    "print(type(my_empty_set))\n",
    "print(\"Set with elements:\", my_empty_set)"
   ]
  },
  {
   "cell_type": "code",
   "execution_count": 7,
   "id": "e941c5e7",
   "metadata": {},
   "outputs": [
    {
     "name": "stdout",
     "output_type": "stream",
     "text": [
      "Set after removing duplicates: {1, 2, 3, 4, 5}\n"
     ]
    }
   ],
   "source": [
    "my_set=set([1,2,2,3,4,4,5])\n",
    "print(\"Set after removing duplicates:\", my_set) #Duplicates are removed"
   ]
  },
  {
   "cell_type": "code",
   "execution_count": 9,
   "id": "b1386d94",
   "metadata": {},
   "outputs": [
    {
     "name": "stdout",
     "output_type": "stream",
     "text": [
      "Set after adding 6: {1, 2, 3, 4, 5, 6}\n",
      "Set after removing 3: {1, 2, 4, 5, 6}\n"
     ]
    }
   ],
   "source": [
    "## Basic Set Operations\n",
    "# Adding and Removing elements\n",
    "my_set.add(6)\n",
    "print(\"Set after adding 6:\", my_set)\n",
    "my_set.remove(3)\n",
    "print(\"Set after removing 3:\", my_set)"
   ]
  },
  {
   "cell_type": "code",
   "execution_count": 10,
   "id": "7028dd45",
   "metadata": {},
   "outputs": [
    {
     "ename": "KeyError",
     "evalue": "10",
     "output_type": "error",
     "traceback": [
      "\u001b[1;31m---------------------------------------------------------------------------\u001b[0m",
      "\u001b[1;31mKeyError\u001b[0m                                  Traceback (most recent call last)",
      "Cell \u001b[1;32mIn[10], line 1\u001b[0m\n\u001b[1;32m----> 1\u001b[0m \u001b[43mmy_set\u001b[49m\u001b[38;5;241;43m.\u001b[39;49m\u001b[43mremove\u001b[49m\u001b[43m(\u001b[49m\u001b[38;5;241;43m10\u001b[39;49m\u001b[43m)\u001b[49m  \u001b[38;5;66;03m# This will raise a KeyError since 10 is not in the set\u001b[39;00m\n",
      "\u001b[1;31mKeyError\u001b[0m: 10"
     ]
    }
   ],
   "source": [
    "my_set.remove(10)  # This will raise a KeyError since 10 is not in the set"
   ]
  },
  {
   "cell_type": "code",
   "execution_count": 11,
   "id": "7053d6e3",
   "metadata": {},
   "outputs": [
    {
     "name": "stdout",
     "output_type": "stream",
     "text": [
      "Set after discarding 10 (no error if not present): {1, 2, 4, 5, 6}\n"
     ]
    }
   ],
   "source": [
    "my_set.discard(10)  # This will not raise an error\n",
    "print(\"Set after discarding 10 (no error if not present):\", my_set)"
   ]
  },
  {
   "cell_type": "code",
   "execution_count": 20,
   "id": "9471fed2",
   "metadata": {},
   "outputs": [
    {
     "name": "stdout",
     "output_type": "stream",
     "text": [
      "Popped Element: 1\n",
      "Set after popping an element: {2, 3, 4, 5}\n"
     ]
    }
   ],
   "source": [
    "## Pop Method\n",
    "my_set = {1, 2, 3, 4, 5}\n",
    "popped_element = my_set.pop() # Removes and returns an arbitrary element\n",
    "print(\"Popped Element:\", popped_element)    \n",
    "print(\"Set after popping an element:\", my_set)"
   ]
  },
  {
   "cell_type": "code",
   "execution_count": 21,
   "id": "59517e4b",
   "metadata": {},
   "outputs": [
    {
     "name": "stdout",
     "output_type": "stream",
     "text": [
      "Is 3 in my_set? True\n",
      "Is 10 in my_set? False\n"
     ]
    }
   ],
   "source": [
    "## Set Membership Test\n",
    "my_set = {1, 2, 3, 4, 5}\n",
    "print(\"Is 3 in my_set?\", 3 in my_set)\n",
    "print(\"Is 10 in my_set?\", 10 in my_set)"
   ]
  },
  {
   "cell_type": "code",
   "execution_count": 11,
   "id": "db3b532a",
   "metadata": {},
   "outputs": [
    {
     "name": "stdout",
     "output_type": "stream",
     "text": [
      "Union of set_a and set_b: {1, 2, 3, 4, 5, 6}\n",
      "set_a after update with set_b: {1, 2, 3, 4, 5, 6}\n",
      "Intersection of set_a and set_b: {3, 4, 5, 6}\n",
      "set_a after intersection_update with set_b: {3, 4, 5, 6}\n",
      "Difference of set_a and set_b (set_a - set_b): set()\n"
     ]
    }
   ],
   "source": [
    "## Mathematical Set Operations\n",
    "set_a = {1, 2, 3, 4}\n",
    "set_b = {3, 4, 5, 6}\n",
    "# Union\n",
    "set_union = set_a.union(set_b)\n",
    "print(\"Union of set_a and set_b:\", set_union) # Union returns a new set\n",
    "set_a.update(set_b) # Updates set_a to include elements from set_b\n",
    "print(\"set_a after update with set_b:\", set_a) # set_a now contains elements from both sets\n",
    "# Intersection\n",
    "set_intersection = set_a.intersection(set_b) # Returns a new set\n",
    "print(\"Intersection of set_a and set_b:\", set_intersection)\n",
    "set_a.intersection_update(set_b) # Updates set_a to keep only elements also in set_b\n",
    "print(\"set_a after intersection_update with set_b:\", set_a)\n",
    "# Difference\n",
    "set_difference = set_a.difference(set_b) \n",
    "print(\"Difference of set_a and set_b (set_a - set_b):\", set_difference) #sets elements in set_a not in set_b\n"
   ]
  },
  {
   "cell_type": "code",
   "execution_count": 10,
   "id": "6e54befe",
   "metadata": {},
   "outputs": [
    {
     "data": {
      "text/plain": [
       "{3, 4, 5, 6}"
      ]
     },
     "execution_count": 10,
     "metadata": {},
     "output_type": "execute_result"
    }
   ],
   "source": [
    "set_a"
   ]
  },
  {
   "cell_type": "code",
   "execution_count": 12,
   "id": "6e9d850a",
   "metadata": {},
   "outputs": [
    {
     "name": "stdout",
     "output_type": "stream",
     "text": [
      "Symmetric Difference of set_a and set_b: {4, 5}\n",
      "set_a after symmetric_difference_update with set_b: {4, 5}\n"
     ]
    }
   ],
   "source": [
    "set_a = {1, 2, 3}\n",
    "set_b = {1, 2, 3, 4, 5}\n",
    "# Symmetric Difference\n",
    "set_sym_diff = set_a.symmetric_difference(set_b)\n",
    "print(\"Symmetric Difference of set_a and set_b:\", set_sym_diff) # Elements in either set_a or set_b but not in both\n",
    "set_a.symmetric_difference_update(set_b) # Updates set_a to be the symmetric difference\n",
    "print(\"set_a after symmetric_difference_update with set_b:\", set_a) # set_a now contains elements in either set_a or set_b but not in both"
   ]
  },
  {
   "cell_type": "code",
   "execution_count": 17,
   "id": "af07f1f4",
   "metadata": {},
   "outputs": [
    {
     "name": "stdout",
     "output_type": "stream",
     "text": [
      "Is my_set2 a subset of my_set? False\n",
      "Is {1,2} a subset of my_set? True\n",
      "Is my_set a superset of my_set2? False\n",
      "Is my_set a superset of {1,2}? True\n"
     ]
    }
   ],
   "source": [
    "## Set Methods\n",
    "my_set = {1, 2, 3, 4, 5,6,8}\n",
    "my_set2 = {4, 5, 6, 7, 8}\n",
    " \n",
    "##is subset\n",
    "print(\"Is my_set2 a subset of my_set?\", my_set2.issubset(my_set))\n",
    "print(\"Is {1,2} a subset of my_set?\", {1,2}.issubset(my_set))\n",
    "\n",
    "##is superset\n",
    "print(\"Is my_set a superset of my_set2?\", my_set.issuperset(my_set2))\n",
    "print(\"Is my_set a superset of {1,2}?\", my_set.issuperset({1,2}))"
   ]
  },
  {
   "cell_type": "code",
   "execution_count": 18,
   "id": "3ba8a7f9",
   "metadata": {},
   "outputs": [
    {
     "name": "stdout",
     "output_type": "stream",
     "text": [
      "Unique elements from the list: {1, 2, 3, 4, 5, 6, 7, 8, 9}\n"
     ]
    }
   ],
   "source": [
    "list=[1,2,3,4,5,5,6,7,8,8,9]\n",
    "unique_set = set(list)\n",
    "print(\"Unique elements from the list:\", unique_set)"
   ]
  },
  {
   "cell_type": "code",
   "execution_count": 20,
   "id": "f3b89703",
   "metadata": {},
   "outputs": [
    {
     "name": "stdout",
     "output_type": "stream",
     "text": [
      "Unique words in the text: {'hello', 'world', 'universe'}\n",
      "Number of unique words: 3\n"
     ]
    }
   ],
   "source": [
    "## Counting unique elements in a list\n",
    "text=\"hello world hello universe\"\n",
    "words=text.split()\n",
    "\n",
    "##Convert list to set to get unique words\n",
    "unique_words=set(words)\n",
    "print(\"Unique words in the text:\", unique_words)\n",
    "print(\"Number of unique words:\", len(unique_words))"
   ]
  }
 ],
 "metadata": {
  "kernelspec": {
   "display_name": "venv",
   "language": "python",
   "name": "python3"
  },
  "language_info": {
   "codemirror_mode": {
    "name": "ipython",
    "version": 3
   },
   "file_extension": ".py",
   "mimetype": "text/x-python",
   "name": "python",
   "nbconvert_exporter": "python",
   "pygments_lexer": "ipython3",
   "version": "3.10.0"
  }
 },
 "nbformat": 4,
 "nbformat_minor": 5
}
